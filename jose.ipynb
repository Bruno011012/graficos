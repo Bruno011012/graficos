{
 "cells": [
  {
   "cell_type": "code",
   "execution_count": 1,
   "metadata": {},
   "outputs": [
    {
     "data": {
      "text/plain": [
       "'subplots.html'"
      ]
     },
     "execution_count": 1,
     "metadata": {},
     "output_type": "execute_result"
    }
   ],
   "source": [
    "import plotly.graph_objects as go\n",
    "from plotly.subplots import make_subplots\n",
    "import plotly.offline as pyo\n",
    "\n",
    "# Dados para os gráficos\n",
    "labels = ['Categoria A', 'Categoria B', 'Categoria C', 'Categoria D']\n",
    "sizes = [25, 30, 20, 25]  # dados para o gráfico de pizza\n",
    "x = [1, 2, 3, 4, 5]\n",
    "y_area = [1, 4, 9, 16, 25]  # dados para o gráfico de área\n",
    "x_scatter = [1, 2, 3, 4, 5]\n",
    "y_scatter = [10, 14, 18, 24, 30]\n",
    "\n",
    "# Criando os subplots usando specs e definindo tamanhos\n",
    "fig = make_subplots(rows=1, cols=3, specs=[[{'type': 'pie'}, {'type': 'scatter'}, {'type': 'scatter'}]],\n",
    "                    subplot_titles=['Gráfico de Pizza', 'Gráfico de Área', 'Gráfico de Dispersão'],\n",
    "                    row_heights=[1],  # Lista de proporções para cada linha\n",
    "                    column_widths=[0.5, 0.3, 0.2]  # Lista de proporções para cada coluna\n",
    "                    )\n",
    "\n",
    "# Adicionando o gráfico de pizza\n",
    "fig.add_trace(go.Pie(labels=labels, values=sizes), row=1, col=1)\n",
    "\n",
    "# Adicionando o gráfico de área\n",
    "fig.add_trace(go.Scatter(x=x, y=y_area, fill='tozeroy', mode='lines'), row=1, col=2)\n",
    "\n",
    "# Adicionando o gráfico de dispersão\n",
    "fig.add_trace(go.Scatter(x=x_scatter, y=y_scatter, mode='markers'), row=1, col=3)\n",
    "\n",
    "# Atualizando o layout\n",
    "fig.update_layout(height=400, width=1000, title_text=\"Três Subplots com Plotly\")\n",
    "\n",
    "# Exibindo os gráficos no navegador\n",
    "pyo.plot(fig, filename='subplots.html', auto_open=True)\n"
   ]
  }
 ],
 "metadata": {
  "kernelspec": {
   "display_name": "testes",
   "language": "python",
   "name": "python3"
  },
  "language_info": {
   "codemirror_mode": {
    "name": "ipython",
    "version": 3
   },
   "file_extension": ".py",
   "mimetype": "text/x-python",
   "name": "python",
   "nbconvert_exporter": "python",
   "pygments_lexer": "ipython3",
   "version": "3.11.6"
  },
  "orig_nbformat": 4
 },
 "nbformat": 4,
 "nbformat_minor": 2
}
